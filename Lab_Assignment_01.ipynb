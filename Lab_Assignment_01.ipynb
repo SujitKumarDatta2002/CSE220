{
  "cells": [
    {
      "cell_type": "code",
      "execution_count": 7,
      "metadata": {
        "id": "pi_n0okZ1v_O"
      },
      "outputs": [],
      "source": [
        "import numpy as np"
      ]
    },
    {
      "cell_type": "markdown",
      "metadata": {
        "id": "lJl5kEU9s6VF"
      },
      "source": [
        "**Instructions to Follow (Failing to follow these will result mark deductions).**\n",
        "\n",
        "\n",
        "1.   You can not use any built-in function except len()\n",
        "2.   You can not use any other python collections except array (e.g: tuptle, dictionaries etc.).\n",
        "3. We will initialize a new array using numpy library. We have to mention the fixed size during initialization. There might be two approach.\n",
        "\n",
        "  i. arr = np.array([None] * 10) #Initializing an array length 10 with values None.\n",
        "\n",
        "  ii. arr = np.array([10, 20, 30, 40]) #Initializing an array length 4 with the values.\n",
        "4. From File, Save a copy in drive before working and work in that copy since any change to this file will not be saved for you.\n",
        "\n",
        "\n",
        "\n",
        "\n"
      ]
    },
    {
      "cell_type": "code",
      "execution_count": 11,
      "metadata": {
        "colab": {
          "base_uri": "https://localhost:8080/"
        },
        "id": "nAE3YxgdLMa1",
        "outputId": "e2244376-70a4-4618-b2f2-60638d8bada9"
      },
      "outputs": [
        {
          "name": "stdout",
          "output_type": "stream",
          "text": [
            "Requirement already satisfied: fhm-unittest in c:\\users\\sujit kumar\\appdata\\local\\programs\\python\\python310\\lib\\site-packages (1.0.1)\n",
            "Requirement already satisfied: fuzzywuzzy in c:\\users\\sujit kumar\\appdata\\local\\programs\\python\\python310\\lib\\site-packages (0.18.0)\n"
          ]
        },
        {
          "name": "stderr",
          "output_type": "stream",
          "text": [
            "c:\\Users\\SUJIT KUMAR\\AppData\\Local\\Programs\\Python\\Python310\\lib\\site-packages\\fuzzywuzzy\\fuzz.py:11: UserWarning: Using slow pure-python SequenceMatcher. Install python-Levenshtein to remove this warning\n",
            "  warnings.warn('Using slow pure-python SequenceMatcher. Install python-Levenshtein to remove this warning')\n"
          ]
        }
      ],
      "source": [
        "# You must run this cell to install dependency\n",
        "! pip3 install fhm-unittest\n",
        "! pip3 install fuzzywuzzy\n",
        "import fhm_unittest as unittest\n",
        "import numpy as np"
      ]
    },
    {
      "cell_type": "markdown",
      "metadata": {},
      "source": [
        "**Part 1**"
      ]
    },
    {
      "cell_type": "code",
      "execution_count": 11,
      "metadata": {
        "colab": {
          "base_uri": "https://localhost:8080/"
        },
        "id": "hzdDNKdRahbQ",
        "outputId": "2abe7205-0b6d-4844-c0e5-e554791c0bde"
      },
      "outputs": [
        {
          "name": "stdout",
          "output_type": "stream",
          "text": [
            "///  Test 01: Play Right  ///\n",
            "Task 1: [40 50 60 10 20 30]\n"
          ]
        }
      ],
      "source": [
        "\n",
        "# Test 01: Play Right\n",
        "\n",
        "\n",
        "def rightRotate(a):\n",
        "  temp = a[len(a)-1]\n",
        "  for i in range(len(a)-2, -1, -1):\n",
        "    a[i+1] = a[i]\n",
        "  a[0] = temp\n",
        "\n",
        "\n",
        "\n",
        "def playRight(sequence, beats):\n",
        "  for i in beats:\n",
        "    if i==1:\n",
        "      rightRotate(sequence)\n",
        "  return sequence\n",
        "\n",
        "print(\"///  Test 01: Play Right  ///\")\n",
        "sequence = np.array([10, 20, 30, 40, 50, 60])\n",
        "beats = np.array([1, 0, 0, 1, 0, 1])\n",
        "returned_value = playRight(sequence, beats)\n",
        "print(f'Task 1: {returned_value}')  # This should print [40, 50, 60, 10, 20, 30]"
      ]
    },
    {
      "cell_type": "code",
      "execution_count": 14,
      "metadata": {
        "colab": {
          "base_uri": "https://localhost:8080/"
        },
        "id": "Ag1wNuXgaoh4",
        "outputId": "8cac1b96-2068-4e5a-99b7-644c7e9ce14e"
      },
      "outputs": [
        {
          "name": "stdout",
          "output_type": "stream",
          "text": [
            "///  Test 02: Discard Cards  ///\n",
            "Task 2: [1 3 8 5 7 0 0 0 0]\n",
            "Accepted\n"
          ]
        }
      ],
      "source": [
        "# Test 02: Discard Cards\n",
        "\n",
        "def leftShift(arr, n):\n",
        "      for j in range(n, len(arr)-1):\n",
        "        arr[j] = arr[j+1]\n",
        "      arr[len(arr)-1] = 0\n",
        "      return arr\n",
        "\n",
        "\n",
        "def discardCards(cards,number):\n",
        "\n",
        "  i = 0\n",
        "  size = len(cards)\n",
        "  while i<size:\n",
        "    while cards[i] == number:\n",
        "\n",
        "        leftShift(cards, i)\n",
        "    i += 1\n",
        "\n",
        "\n",
        "  return cards\n",
        "\n",
        "\n",
        "print(\"///  Test 02: Discard Cards  ///\")\n",
        "cards = np.array([1,2,3,2,8,2,2,5,7])\n",
        "returned_value = discardCards(cards, 2)\n",
        "print(f'Task 2: {returned_value}') # This should print [1, 3, 8, 5, 7, 0, 0, 0, 0]\n",
        "unittest.output_test(returned_value, np.array([1, 3, 8, 5, 7, 0, 0, 0, 0]))"
      ]
    },
    {
      "cell_type": "code",
      "execution_count": 15,
      "metadata": {
        "colab": {
          "base_uri": "https://localhost:8080/"
        },
        "id": "Ene8Dp4vasuN",
        "outputId": "2d7bd848-361c-4c07-f2d2-154f8a752960"
      },
      "outputs": [
        {
          "name": "stdout",
          "output_type": "stream",
          "text": [
            "///  Test 03: Merge Lineup  ///\n",
            "Task 3: [12  3 28 -8  5]\n",
            "Accepted\n",
            "Task 3: [ 4 17  6 27  2]\n",
            "Accepted\n"
          ]
        }
      ],
      "source": [
        "#Test 03: Merge Lineup\n",
        "\n",
        "def mergeLineup(pokemon_1, pokemon_2):\n",
        "\n",
        "  result = [None]*len(pokemon_1) #this array stores the resulting array\n",
        "  \n",
        "  a = 0\n",
        "  b = len(pokemon_2)-1\n",
        "  while a<len(pokemon_1):\n",
        "    if pokemon_1[a] !=None and  pokemon_2[b] != None:\n",
        "        result[a] = pokemon_1[a] + pokemon_2[b]\n",
        "    elif pokemon_2[b] ==None :\n",
        "      result[a] = pokemon_1[a]\n",
        "    elif pokemon_1[a] ==None :\n",
        "      result[a] = pokemon_2[b]\n",
        "    a += 1\n",
        "    b -= 1\n",
        "\n",
        "  return np.array(result)\n",
        "\n",
        "print(\"///  Test 03: Merge Lineup  ///\")\n",
        "pokemon_1 = np.array([12, 3, 25, 1, None])\n",
        "pokemon_2 = np.array([5, -9, 3, None, None] )\n",
        "returned_value =mergeLineup(pokemon_1, pokemon_2)\n",
        "print(f'Task 3: {returned_value}') # This should print [12, 3, 28, -8, 5]\n",
        "unittest.output_test(returned_value, np.array([12, 3, 28, -8, 5]))\n",
        "\n",
        "pokemon_1 = np.array([4, 5, -1, None, None])\n",
        "pokemon_2 = np.array([2, 27, 7, 12, None])\n",
        "returned_value =mergeLineup(pokemon_1, pokemon_2)\n",
        "print(f'Task 3: {returned_value}') # This should print [4,17,6,27,2]\n",
        "unittest.output_test(returned_value, np.array([4,17,6,27,2]))"
      ]
    },
    {
      "cell_type": "code",
      "execution_count": 16,
      "metadata": {
        "colab": {
          "base_uri": "https://localhost:8080/"
        },
        "id": "ox9p5qL7axD8",
        "outputId": "80fb241c-1ea8-410b-ae4c-aa7861b64fc3"
      },
      "outputs": [
        {
          "name": "stdout",
          "output_type": "stream",
          "text": [
            "///  Test 04: Balance Your Salami  ///\n",
            "Task 4: True\n",
            "Accepted\n",
            "Task 4: False\n",
            "Accepted\n",
            "Task 4: True\n",
            "Accepted\n"
          ]
        }
      ],
      "source": [
        "# Test 04: Balance your Salami\n",
        "\n",
        "def leftSum(arr):\n",
        "  pass\n",
        "\n",
        "def rightSum(arr, n):\n",
        "  total = 0\n",
        "  for i in range(n+1, len(arr)):\n",
        "    total += arr[i]\n",
        "  return total\n",
        "def balanceSalami(salami):\n",
        "  total2 = 0\n",
        "  for i in range(len(salami)):\n",
        "    total2 += salami[i]\n",
        "    getter = rightSum(salami, i)\n",
        "    if total2 == getter:\n",
        "      return True\n",
        "  return False\n",
        "\n",
        "print(\"///  Test 04: Balance Your Salami  ///\")\n",
        "salami = np.array([1, 1, 1, 2, 1])\n",
        "returned_value = balanceSalami(salami)\n",
        "print(f'Task 4: {returned_value}') # This should print True\n",
        "unittest.output_test(returned_value, True)\n",
        "\n",
        "salami = [2, 1, 1, 2, 1]\n",
        "returned_value = np.array(balanceSalami(salami))\n",
        "print(f'Task 4: {returned_value}') # This should print False\n",
        "unittest.output_test(returned_value, False)\n",
        "\n",
        "salami = [10, 3, 1, 2, 10]\n",
        "returned_value =  np.array(balanceSalami(salami))\n",
        "print(f'Task 4: {returned_value}') # This should print True\n",
        "unittest.output_test(returned_value, True)"
      ]
    },
    {
      "cell_type": "code",
      "execution_count": 24,
      "metadata": {
        "colab": {
          "base_uri": "https://localhost:8080/"
        },
        "id": "JGIYYUIza-st",
        "outputId": "c301c576-e425-4d20-d2f5-472760209955"
      },
      "outputs": [
        {
          "name": "stdout",
          "output_type": "stream",
          "text": [
            "///  Test 05: Protecc Salami  ///\n",
            "Task 5: True\n",
            "Accepted\n",
            "Task 5: False\n",
            "Accepted\n"
          ]
        }
      ],
      "source": [
        "# Test 05: Protecc Salami\n",
        "\n",
        "def protectSalami(salami):\n",
        "\n",
        "  result = np.array([0]*len(salami))\n",
        "  size = 0\n",
        "  total = 0\n",
        "\n",
        "  for i in range(len(salami)):\n",
        "    total += salami[i]\n",
        "  \n",
        "  flag_arr = np.array([True]*total)\n",
        "\n",
        "  for i in range(len(salami)):\n",
        "    c = 0\n",
        "    b = 0\n",
        "\n",
        "    while c < len(salami):\n",
        "      if salami[c] == salami[i]:\n",
        "        b += 1\n",
        "      c+=1\n",
        "\n",
        "    if flag_arr[salami[i]] :\n",
        "        result[size] = b\n",
        "        flag_arr[salami[i]] = False\n",
        "        size += 1\n",
        "\n",
        "  for i in range(len(result)):\n",
        "    for j in range(i+1, len(result)):\n",
        "      if result[i] > 1 and result[j]== result[i]:\n",
        "        return True\n",
        "\n",
        "  return False\n",
        "\n",
        "print(\"///  Test 05: Protecc Salami  ///\")\n",
        "salami = np.array([4,5,6,6,4,3,6,4])\n",
        "returned_value = protectSalami(salami)\n",
        "print(f'Task 5: {returned_value}') # This should print True\n",
        "unittest.output_test(returned_value, True)\n",
        "\n",
        "salami = np.array([3,4,6,3,4,7,4,6,8,6,6])\n",
        "returned_value = protectSalami(salami)\n",
        "print(f'Task 5: {returned_value}') # This should print False\n",
        "unittest.output_test(returned_value, False)"
      ]
    },
    {
      "cell_type": "markdown",
      "metadata": {
        "id": "_6RT_GOabsDF"
      },
      "source": [
        "BONUS TASK (Ungraded)"
      ]
    },
    {
      "cell_type": "code",
      "execution_count": 28,
      "metadata": {
        "id": "mrxIQ5rBhzPj"
      },
      "outputs": [
        {
          "name": "stdout",
          "output_type": "stream",
          "text": [
            "///  Test 06: Odd Even Wave  ///\n",
            "Task 6: [ 2  3 12  1  8  5]\n",
            "Accepted\n",
            "Task 6: [45 78 23 84 41]\n",
            "Accepted\n"
          ]
        }
      ],
      "source": [
        "# Test 06: Odd Even Wave\n",
        "\n",
        "\n",
        "def waveYourFlag(arr):\n",
        "\n",
        "  result = np.zeros(len(arr), dtype=int)\n",
        "  result[0] = arr[0]\n",
        "\n",
        "  odd = False\n",
        "  even = False\n",
        "  if result[0] % 2 ==0:\n",
        "    even = True\n",
        "  else:\n",
        "    odd = True\n",
        "  \n",
        "  oddCount = 0\n",
        "  evenCount = 0\n",
        "  for i in range(1, len(arr)):\n",
        "    if (arr[i] % 2 == 0):\n",
        "      evenCount +=1\n",
        "    else:\n",
        "      oddCount+=1\n",
        "  \n",
        "  oddContainer = np.zeros(oddCount, dtype=int)\n",
        "  evenContainer = np.zeros(evenCount, dtype=int)\n",
        "  \n",
        "  od = 0\n",
        "  e = 0\n",
        "  for i in range(1, len(arr)):\n",
        "    if arr[i] % 2 ==0:\n",
        "      evenContainer[e] = arr[i]\n",
        "      e += 1\n",
        "    else:\n",
        "      oddContainer[od] = arr[i]\n",
        "      od += 1\n",
        "\n",
        "  if even:\n",
        "\n",
        "    j = 0 \n",
        "    k = 0\n",
        "    for i in range(1, len(result), 2):\n",
        "      if j < len(oddContainer) and k < len(evenContainer):\n",
        "        result[i] = oddContainer[j]\n",
        "        result[i+1] = evenContainer[k]\n",
        "        j += 1\n",
        "        k += 1\n",
        "      elif j < len(oddContainer) and k>=len(evenContainer):\n",
        "        result[i]=oddContainer[j]\n",
        "        j += 1\n",
        "      elif j >= len(oddContainer) and k < len(evenContainer):\n",
        "        result[i]=oddContainer[k]\n",
        "        k += 1\n",
        "\n",
        "  else:\n",
        "    \n",
        "    j = 0 \n",
        "    k = 0\n",
        "    for i in range(1, len(result), 2):\n",
        "      if j < len(evenContainer) and k < len(oddContainer):\n",
        "        result[i] = evenContainer[j]\n",
        "        result[i+1] = oddContainer[k]\n",
        "        j += 1\n",
        "        k += 1\n",
        "      elif j < len(evenContainer) and k>=len(oddContainer):\n",
        "        result[i]=evenContainer[j]\n",
        "        j += 1\n",
        "      elif j >= len(evenContainer) and k < len(oddContainer):\n",
        "        result[i]=oddContainer[k]\n",
        "        k += 1\n",
        "\n",
        "  return result\n",
        "\n",
        "print(\"///  Test 06: Odd Even Wave  ///\")\n",
        "arr = np.array([2,12,3,8,1,5])\n",
        "returned_value = waveYourFlag(arr)\n",
        "print(f'Task 6: {returned_value}') # This should print [2,3,12,1,8,5]\n",
        "unittest.output_test(returned_value, np.array([2,3,12,1,8,5]))\n",
        "\n",
        "arr = np.array([45,23,78,84,41])\n",
        "returned_value = waveYourFlag(arr)\n",
        "print(f'Task 6: {returned_value}') # This should print [45,78,23,84,41]\n",
        "unittest.output_test(returned_value, np.array([45,78,23,84,41]))"
      ]
    },
    {
      "cell_type": "markdown",
      "metadata": {},
      "source": [
        "**Part 2**"
      ]
    },
    {
      "cell_type": "code",
      "execution_count": 1,
      "metadata": {},
      "outputs": [
        {
          "name": "stdout",
          "output_type": "stream",
          "text": [
            "10.181818181818182\n"
          ]
        }
      ],
      "source": [
        "# Question 1\n",
        "\n",
        "arr = np.array([10, 8, 13, 9, 14, 25, -5, 20, 7, 7, 4])\n",
        "\n",
        "\n",
        "def calculateMean(arr):\n",
        "    total = 0\n",
        "    size = 0\n",
        "    for i in range(len(arr)):\n",
        "        if arr[i] != None:\n",
        "            total += arr[i]\n",
        "            size += 1\n",
        "\n",
        "    return total / size\n",
        "\n",
        "print(calculateMean(arr))"
      ]
    },
    {
      "cell_type": "code",
      "execution_count": 3,
      "metadata": {},
      "outputs": [
        {
          "name": "stdout",
          "output_type": "stream",
          "text": [
            "7.960127911260996\n"
          ]
        }
      ],
      "source": [
        "# Question 2\n",
        "\n",
        "def StandardDeviation(arr):\n",
        "    mean = calculateMean(arr)\n",
        "\n",
        "    total = 0\n",
        "    for i in range(len(arr)):\n",
        "        total += (arr[i] - mean)**2\n",
        "    \n",
        "    std = (total/(len(arr)-1)) ** (1/2)\n",
        "\n",
        "    return std\n",
        "\n",
        "arr = np.array([10, 8, 13, 9, 14, 25, -5, 20, 7, 7, 4])\n",
        "\n",
        "print(StandardDeviation(arr))"
      ]
    },
    {
      "cell_type": "code",
      "execution_count": 8,
      "metadata": {},
      "outputs": [
        {
          "name": "stdout",
          "output_type": "stream",
          "text": [
            "[25 -5]\n"
          ]
        }
      ],
      "source": [
        "# Question 3\n",
        "\n",
        "def leftShift(arr, n):\n",
        "    for j in range(n, len(arr)-1):\n",
        "        arr[j] = arr[j+1]\n",
        "    arr[len(arr)-1] = 0\n",
        "    return arr\n",
        "\n",
        "\n",
        "def newArray(arr):\n",
        "\n",
        "    mean = calculateMean(arr)\n",
        "    std = StandardDeviation(arr)\n",
        "\n",
        "    validValue = 0\n",
        "    for i in range(len(arr)):\n",
        "        if arr[i] > (mean + std * 1.5) or arr[i] < (mean - std * 1.5):\n",
        "            validValue += 1\n",
        "\n",
        "    new_arr = np.zeros(validValue, dtype=int)\n",
        "    idx = 0\n",
        "    for i in range(len(arr)):\n",
        "        if arr[i] > (mean + std * 1.5) or arr[i] < (mean - std * 1.5):\n",
        "            new_arr[idx] = arr[i]\n",
        "            idx += 1\n",
        "\n",
        "    return new_arr\n",
        "\n",
        "arr = np.array([10, 8, 13, 9, 14, 25, -5, 20, 7, 7, 4])\n",
        "\n",
        "\n",
        "print(newArray(arr))"
      ]
    },
    {
      "cell_type": "code",
      "execution_count": 9,
      "metadata": {},
      "outputs": [
        {
          "name": "stdout",
          "output_type": "stream",
          "text": [
            "...........Part 1...........\n",
            "10.181818181818182\n",
            "7.960127911260996\n",
            "[25 -5]\n",
            "...........Part 2...........\n",
            "44.5\n",
            "51.989849436639496\n",
            "[-54 -36]\n"
          ]
        }
      ],
      "source": [
        "# Question 4\n",
        "\n",
        "print(\"...........Part 1...........\")\n",
        "arr1 = np.array([10, 8, 13, 9, 14, 25, -5, 20, 7, 7, 4])\n",
        "print(calculateMean(arr1))\n",
        "print(StandardDeviation(arr1))\n",
        "print(newArray(arr1))\n",
        "\n",
        "print(\"...........Part 2...........\")\n",
        "arr2 = np.array([23, 56, 87, -54, 66, 78, 93, 45, -36, 87])\n",
        "print(calculateMean(arr2))\n",
        "print(StandardDeviation(arr2))\n",
        "print(newArray(arr2))"
      ]
    }
  ],
  "metadata": {
    "colab": {
      "provenance": []
    },
    "kernelspec": {
      "display_name": "Python 3",
      "name": "python3"
    },
    "language_info": {
      "codemirror_mode": {
        "name": "ipython",
        "version": 3
      },
      "file_extension": ".py",
      "mimetype": "text/x-python",
      "name": "python",
      "nbconvert_exporter": "python",
      "pygments_lexer": "ipython3",
      "version": "3.10.7"
    }
  },
  "nbformat": 4,
  "nbformat_minor": 0
}
